{
 "cells": [
  {
   "cell_type": "code",
   "execution_count": null,
   "id": "30501366-6d8c-4e29-aa3c-8b871160e851",
   "metadata": {},
   "outputs": [],
   "source": [
    "# Анализ Titanic\n",
    "import seaborn as sns\n",
    "import pandas as pd\n",
    "from sklearn.ensemble import RandomForestClassifier\n",
    "from sklearn.model_selection import train_test_split\n",
    "import matplotlib.pyplot as plt\n",
    "## 1. Загрузка данных\n",
    "titanic = sns.load_dataset('titanic')\n",
    "## 2. Предобработка\n",
    "df = titanic[['survived', 'pclass', 'sex', 'age', 'fare', 'sibsp']].dropna()\n",
    "df['sex'] = df['sex'].map({'male': 0, 'female': 1})\n",
    "X = df[['pclass', 'sex', 'age', 'fare', 'sibsp']]\n",
    "y = df['survived']\n",
    "X_train, X_test, y_train, y_test = train_test_split(X, y, test_size=0.2, random_state=42)\n",
    "## 3. Модель\n",
    "model = RandomForestClassifier(n_estimators=100, random_state=42)\n",
    "model.fit(X_train, y_train)\n",
    "print(f\"Score: {model.score(X_test, y_test)}\")\n",
    "importance = pd.DataFrame({'feature': X.columns, 'importance': model.feature_importances_})\n",
    "print(importance)\n",
    "passenger = [[1, 1, 30, 50, 1]]\n",
    "## 4. Результаты\n",
    "print(f\"Выживание пассажира: {model.predict(passenger)[0]}\")"
   ]
  }
 ],
 "metadata": {
  "kernelspec": {
   "display_name": "anaconda-panel-2023.05-py310",
   "language": "python",
   "name": "conda-env-anaconda-panel-2023.05-py310-py"
  },
  "language_info": {
   "codemirror_mode": {
    "name": "ipython",
    "version": 3
   },
   "file_extension": ".py",
   "mimetype": "text/x-python",
   "name": "python",
   "nbconvert_exporter": "python",
   "pygments_lexer": "ipython3",
   "version": "3.11.5"
  }
 },
 "nbformat": 4,
 "nbformat_minor": 5
}
